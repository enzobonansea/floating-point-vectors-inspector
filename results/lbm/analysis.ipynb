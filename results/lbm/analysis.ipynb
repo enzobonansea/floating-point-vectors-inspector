{
 "cells": [
  {
   "cell_type": "code",
   "execution_count": 27,
   "id": "e080ee13-7a02-47fe-8e26-528db912facb",
   "metadata": {
    "scrolled": true
   },
   "outputs": [
    {
     "name": "stdout",
     "output_type": "stream",
     "text": [
      "Block size: 214,400,000 bytes\n",
      "Count: 1\n",
      "Total: 214,400,000 bytes\n",
      "Stack trace (first line): ==341==    at 0x483C815: malloc (vg_replace_malloc.c:446)\n",
      "----------------------------------------\n"
     ]
    }
   ],
   "source": [
    "def parse_valgrind_log(log_content):\n",
    "    block_pattern = r'Store at (0x[0-9a-f]+), value: 0x0, block size: (\\d+).*?Block alloc stack trace:\\n((?:==\\d+==.*\\n)*)'\n",
    "    blocks = {}\n",
    "    \n",
    "    for match in re.finditer(block_pattern, log_content, re.DOTALL):\n",
    "        size = int(match.group(2))\n",
    "        stack = match.group(3).strip()\n",
    "        \n",
    "        if stack not in blocks:\n",
    "            blocks[stack] = {'count': 0, 'total_size': 0, 'size': size}\n",
    "        blocks[stack]['count'] += 1\n",
    "        blocks[stack]['total_size'] += size\n",
    "    \n",
    "    return blocks\n",
    "\n",
    "with open('stores.log', 'r') as f:\n",
    "    content = f.read()\n",
    "    \n",
    "blocks = parse_valgrind_log(content)\n",
    "\n",
    "# Print concise summary\n",
    "for stack, info in blocks.items():\n",
    "    print(f\"Block size: {info['size']:,} bytes\")\n",
    "    print(f\"Count: {info['count']}\")\n",
    "    print(f\"Total: {info['total_size']:,} bytes\")\n",
    "    print(\"Stack trace (first line):\", stack.split('\\n')[0])\n",
    "    print(\"-\" * 40)"
   ]
  },
  {
   "cell_type": "code",
   "execution_count": 41,
   "id": "ce8c6ceb-40ec-41c5-be89-c4d5ed500502",
   "metadata": {},
   "outputs": [
    {
     "name": "stdout",
     "output_type": "stream",
     "text": [
      "Number of zero values: 2680000\n",
      "Total number of values: 3680048\n",
      "Maximum value: 5e-324\n",
      "Minimum value: 0.0\n"
     ]
    }
   ],
   "source": [
    "print(f\"Number of zero values: {sum(1 for x in doubles if x == 0.0)}\")\n",
    "print(f\"Total number of values: {len(doubles)}\")\n",
    "print(f\"Maximum value: {max(doubles)}\")\n",
    "print(f\"Minimum value: {min(doubles)}\")"
   ]
  },
  {
   "cell_type": "code",
   "execution_count": 42,
   "id": "087f4b26-cc54-455f-a6ed-920853c411c9",
   "metadata": {},
   "outputs": [
    {
     "name": "stderr",
     "output_type": "stream",
     "text": [
      "C:\\Users\\EnzoBonansea\\AppData\\Local\\Temp\\ipykernel_41196\\2405513708.py:39: UserWarning: Attempting to set identical low and high ylims makes transformation singular; automatically expanding.\n",
      "  plt.ylim(min(values) * 0.9, max(values) * 1.1)\n"
     ]
    },
    {
     "data": {
      "image/png": "[encoded data removed]",
      "text/plain": [
       "<Figure size 1200x700 with 1 Axes>"
      ]
     },
     "metadata": {},
     "output_type": "display_data"
    }
   ],
   "source": [
    "import matplotlib.pyplot as plt\n",
    "import numpy as np\n",
    "import re\n",
    "import struct\n",
    "\n",
    "def parse_doubles_from_log(file_path):\n",
    "    \"\"\"\n",
    "    Parse double values from the log file.\n",
    "\n",
    "    :param file_path: Path to the log file.\n",
    "    :return: Generator of double values.\n",
    "    \"\"\"\n",
    "    pattern = r'Store at (?:0x[0-9a-f]+), value: (0x[0-9a-f]+),'\n",
    "    \n",
    "    with open(file_path, 'r') as f:\n",
    "        for match in re.finditer(pattern, f.read()):\n",
    "            hex_val = match.group(1)\n",
    "            try:\n",
    "                int_val = int(hex_val, 16)\n",
    "                bytes_val = int_val.to_bytes(8, byteorder='little')\n",
    "                yield struct.unpack('d', bytes_val)[0]\n",
    "            except Exception as e:\n",
    "                print(f\"Skipping invalid value {hex_val}: {e}\")\n",
    "\n",
    "def plot_scatter(values):\n",
    "    \"\"\"\n",
    "    Plot a scatter plot of values, where x is the index and y is the value.\n",
    "    \n",
    "    :param values: List of non-zero double values.\n",
    "    \"\"\"\n",
    "    indices = range(len(values))  # X-axis as the index of each value\n",
    "    \n",
    "    plt.figure(figsize=(12, 7))\n",
    "    \n",
    "    # Scatter plot: X = index, Y = value\n",
    "    plt.scatter(indices, values, color='blue', alpha=0.5, s=2)\n",
    "\n",
    "    # Zoom into the y-axis to avoid clustering around zero\n",
    "    plt.ylim(min(values) * 0.9, max(values) * 1.1)\n",
    "    \n",
    "    # Optional: Apply a log scale to the y-axis to handle very small values (uncomment to use)\n",
    "    plt.yscale('log')\n",
    "\n",
    "    # Customize the plot\n",
    "    plt.title('Scatter Plot of Non-Zero Double Values', fontsize=16)\n",
    "    plt.xlabel('Index', fontsize=14)\n",
    "    plt.ylabel('Value', fontsize=14)\n",
    "    plt.grid(True, alpha=0.3)\n",
    "    \n",
    "    plt.tight_layout()\n",
    "    plt.show()\n",
    "\n",
    "def main():\n",
    "    log_file_path = 'stores.log'\n",
    "\n",
    "    # Parse doubles and exclude zero values\n",
    "    doubles = list(parse_doubles_from_log(log_file_path))\n",
    "    non_zero_doubles = [val for val in doubles if val != 0.0]\n",
    "\n",
    "    # Plot the scatter plot of non-zero values\n",
    "    plot_scatter(non_zero_doubles)\n",
    "\n",
    "if __name__ == '__main__':\n",
    "    main()\n"
   ]
  },
  {
   "cell_type": "code",
   "execution_count": null,
   "id": "239ee212-6a4b-4e93-92a9-20f83ab26f3e",
   "metadata": {},
   "outputs": [],
   "source": []
  }
 ],
 "metadata": {
  "kernelspec": {
   "display_name": "Python 3 (ipykernel)",
   "language": "python",
   "name": "python3"
  },
  "language_info": {
   "codemirror_mode": {
    "name": "ipython",
    "version": 3
   },
   "file_extension": ".py",
   "mimetype": "text/x-python",
   "name": "python",
   "nbconvert_exporter": "python",
   "pygments_lexer": "ipython3",
   "version": "3.12.8"
  }
 },
 "nbformat": 4,
 "nbformat_minor": 5
}
