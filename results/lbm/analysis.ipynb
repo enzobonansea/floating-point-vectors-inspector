{
 "cells": [
  {
   "cell_type": "code",
   "execution_count": 27,
   "id": "e080ee13-7a02-47fe-8e26-528db912facb",
   "metadata": {},
   "outputs": [
    {
     "name": "stdout",
     "output_type": "stream",
     "text": [
      "Block size: 214,400,000 bytes\n",
      "Count: 1\n",
      "Total: 214,400,000 bytes\n",
      "Stack trace (first line): ==341==    at 0x483C815: malloc (vg_replace_malloc.c:446)\n",
      "----------------------------------------\n"
     ]
    }
   ],
   "source": [
    "def parse_valgrind_log(log_content):\n",
    "    block_pattern = r'Store at (0x[0-9a-f]+), value: 0x0, block size: (\\d+).*?Block alloc stack trace:\\n((?:==\\d+==.*\\n)*)'\n",
    "    blocks = {}\n",
    "    \n",
    "    for match in re.finditer(block_pattern, log_content, re.DOTALL):\n",
    "        size = int(match.group(2))\n",
    "        stack = match.group(3).strip()\n",
    "        \n",
    "        if stack not in blocks:\n",
    "            blocks[stack] = {'count': 0, 'total_size': 0, 'size': size}\n",
    "        blocks[stack]['count'] += 1\n",
    "        blocks[stack]['total_size'] += size\n",
    "    \n",
    "    return blocks\n",
    "\n",
    "with open('stores.log', 'r') as f:\n",
    "    content = f.read()\n",
    "    \n",
    "blocks = parse_valgrind_log(content)\n",
    "\n",
    "# Print concise summary\n",
    "for stack, info in blocks.items():\n",
    "    print(f\"Block size: {info['size']:,} bytes\")\n",
    "    print(f\"Count: {info['count']}\")\n",
    "    print(f\"Total: {info['total_size']:,} bytes\")\n",
    "    print(\"Stack trace (first line):\", stack.split('\\n')[0])\n",
    "    print(\"-\" * 40)"
   ]
  },
  {
   "cell_type": "code",
   "execution_count": null,
   "id": "087f4b26-cc54-455f-a6ed-920853c411c9",
   "metadata": {},
   "outputs": [],
   "source": []
  }
 ],
 "metadata": {
  "kernelspec": {
   "display_name": "Python 3 (ipykernel)",
   "language": "python",
   "name": "python3"
  },
  "language_info": {
   "codemirror_mode": {
    "name": "ipython",
    "version": 3
   },
   "file_extension": ".py",
   "mimetype": "text/x-python",
   "name": "python",
   "nbconvert_exporter": "python",
   "pygments_lexer": "ipython3",
   "version": "3.12.8"
  }
 },
 "nbformat": 4,
 "nbformat_minor": 5
}
