{
 "cells": [
  {
   "cell_type": "code",
   "execution_count": 15,
   "id": "e080ee13-7a02-47fe-8e26-528db912facb",
   "metadata": {},
   "outputs": [],
   "source": [
    "import re\n",
    "\n",
    "def parse_valgrind_log(log_content):\n",
    "    # Updated pattern to match 'value: 0x0' part\n",
    "    block_pattern = r'Store at (0x[0-9a-f]+), value: 0x0, block size: (\\d+).*?Block alloc stack trace:\\n((?:==\\d+==.*\\n)*)'\n",
    "    \n",
    "    blocks = {}\n",
    "    matches = re.finditer(block_pattern, log_content, re.DOTALL)\n",
    "    \n",
    "    for match in matches:\n",
    "        address = match.group(1)\n",
    "        size = int(match.group(2))\n",
    "        stack = match.group(3).strip()\n",
    "        \n",
    "        if stack not in blocks:\n",
    "            blocks[stack] = {'count': 0, 'total_size': 0, 'size': size}\n",
    "        blocks[stack]['count'] += 1\n",
    "        blocks[stack]['total_size'] += size\n",
    "    \n",
    "    return blocks\n",
    "# Read and analyze log\n",
    "with open('paste.txt', 'r') as f:\n",
    "    content = f.read()\n",
    "    \n",
    "blocks = parse_valgrind_log(content)\n",
    "\n",
    "# Print summary\n",
    "for stack, info in blocks.items():\n",
    "    print(f\"\\nAllocation Stack Trace:\")\n",
    "    print(stack)\n",
    "    print(f\"Block size: {info['size']} bytes\")\n",
    "    print(f\"Number of blocks: {info['count']}\")\n",
    "    print(f\"Total allocated: {info['total_size']} bytes\")\n",
    "    print(\"-\" * 80)"
   ]
  },
  {
   "cell_type": "code",
   "execution_count": 24,
   "id": "64f63d19-60eb-4b1d-aae4-485240a29259",
   "metadata": {},
   "outputs": [],
   "source": [
    "list(blocks.items())[0]"
   ]
  },
  {
   "cell_type": "code",
   "execution_count": null,
   "id": "ec9309d0-94d1-4384-a982-b645ffab0e8f",
   "metadata": {},
   "outputs": [],
   "source": []
  }
 ],
 "metadata": {
  "kernelspec": {
   "display_name": "Python 3 (ipykernel)",
   "language": "python",
   "name": "python3"
  },
  "language_info": {
   "codemirror_mode": {
    "name": "ipython",
    "version": 3
   },
   "file_extension": ".py",
   "mimetype": "text/x-python",
   "name": "python",
   "nbconvert_exporter": "python",
   "pygments_lexer": "ipython3",
   "version": "3.12.8"
  }
 },
 "nbformat": 4,
 "nbformat_minor": 5
}
